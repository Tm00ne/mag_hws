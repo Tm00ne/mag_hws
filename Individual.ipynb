{
 "cells": [
  {
   "cell_type": "markdown",
   "id": "6d1b19f7-3be2-47ea-8d24-c9bbc3b900eb",
   "metadata": {},
   "source": [
    "## pandas"
   ]
  },
  {
   "cell_type": "code",
   "execution_count": 260,
   "id": "f9c1bbac-8240-4266-96a7-8cc8b2363c46",
   "metadata": {
    "_uuid": "568eb2d31004b87d22e119112ae01a1e75105f1d"
   },
   "outputs": [],
   "source": [
    "import pandas as pd"
   ]
  },
  {
   "cell_type": "markdown",
   "id": "b0d7a24e-cf52-42b7-868d-84be700aab15",
   "metadata": {},
   "source": [
    "#### Описание данных\n",
    "\n",
    "В папке Data находится информация о студентах. Всего 10 групп студентов. Файлы делятся на две категории:\n",
    "    * Students_info_i - информация о студентах из группы i\n",
    "    * Students_marks_i - оценки студентов из группы i за экзамены"
   ]
  },
  {
   "cell_type": "markdown",
   "id": "ab49dd60-ef12-4098-81aa-3b3fa33c3d9f",
   "metadata": {},
   "source": [
    "#### Задание 1. Соберите всю информацию о студентах в одну таблицу df. В получившейся таблице должна быть информация и оценки всех студентов из всех групп. Напечатайте несколько строк таблицы для демонстрации результата.¶"
   ]
  },
  {
   "cell_type": "code",
   "execution_count": 261,
   "id": "147fca78-8460-4d04-9bed-d4572f69dba8",
   "metadata": {},
   "outputs": [
    {
     "data": {
      "text/html": [
       "<div>\n",
       "<style scoped>\n",
       "    .dataframe tbody tr th:only-of-type {\n",
       "        vertical-align: middle;\n",
       "    }\n",
       "\n",
       "    .dataframe tbody tr th {\n",
       "        vertical-align: top;\n",
       "    }\n",
       "\n",
       "    .dataframe thead th {\n",
       "        text-align: right;\n",
       "    }\n",
       "</style>\n",
       "<table border=\"1\" class=\"dataframe\">\n",
       "  <thead>\n",
       "    <tr style=\"text-align: right;\">\n",
       "      <th></th>\n",
       "      <th>index</th>\n",
       "      <th>gender</th>\n",
       "      <th>race/ethnicity</th>\n",
       "      <th>parental level of education</th>\n",
       "      <th>lunch</th>\n",
       "      <th>test preparation course</th>\n",
       "      <th>group</th>\n",
       "      <th>math score</th>\n",
       "      <th>reading score</th>\n",
       "      <th>writing score</th>\n",
       "    </tr>\n",
       "  </thead>\n",
       "  <tbody>\n",
       "    <tr>\n",
       "      <th>249</th>\n",
       "      <td>249</td>\n",
       "      <td>male</td>\n",
       "      <td>group C</td>\n",
       "      <td>high school</td>\n",
       "      <td>standard</td>\n",
       "      <td>none</td>\n",
       "      <td>group3</td>\n",
       "      <td>68</td>\n",
       "      <td>60</td>\n",
       "      <td>53</td>\n",
       "    </tr>\n",
       "    <tr>\n",
       "      <th>410</th>\n",
       "      <td>410</td>\n",
       "      <td>female</td>\n",
       "      <td>group D</td>\n",
       "      <td>master's degree</td>\n",
       "      <td>standard</td>\n",
       "      <td>completed</td>\n",
       "      <td>group5</td>\n",
       "      <td>70</td>\n",
       "      <td>71</td>\n",
       "      <td>74</td>\n",
       "    </tr>\n",
       "    <tr>\n",
       "      <th>254</th>\n",
       "      <td>254</td>\n",
       "      <td>male</td>\n",
       "      <td>group D</td>\n",
       "      <td>high school</td>\n",
       "      <td>standard</td>\n",
       "      <td>none</td>\n",
       "      <td>group3</td>\n",
       "      <td>54</td>\n",
       "      <td>52</td>\n",
       "      <td>52</td>\n",
       "    </tr>\n",
       "    <tr>\n",
       "      <th>487</th>\n",
       "      <td>487</td>\n",
       "      <td>female</td>\n",
       "      <td>group C</td>\n",
       "      <td>associate's degree</td>\n",
       "      <td>free/reduced</td>\n",
       "      <td>none</td>\n",
       "      <td>group5</td>\n",
       "      <td>60</td>\n",
       "      <td>75</td>\n",
       "      <td>74</td>\n",
       "    </tr>\n",
       "    <tr>\n",
       "      <th>303</th>\n",
       "      <td>303</td>\n",
       "      <td>male</td>\n",
       "      <td>group B</td>\n",
       "      <td>associate's degree</td>\n",
       "      <td>standard</td>\n",
       "      <td>none</td>\n",
       "      <td>group4</td>\n",
       "      <td>80</td>\n",
       "      <td>76</td>\n",
       "      <td>64</td>\n",
       "    </tr>\n",
       "    <tr>\n",
       "      <th>383</th>\n",
       "      <td>383</td>\n",
       "      <td>female</td>\n",
       "      <td>group E</td>\n",
       "      <td>some high school</td>\n",
       "      <td>free/reduced</td>\n",
       "      <td>none</td>\n",
       "      <td>group4</td>\n",
       "      <td>38</td>\n",
       "      <td>49</td>\n",
       "      <td>45</td>\n",
       "    </tr>\n",
       "    <tr>\n",
       "      <th>101</th>\n",
       "      <td>101</td>\n",
       "      <td>male</td>\n",
       "      <td>group D</td>\n",
       "      <td>bachelor's degree</td>\n",
       "      <td>standard</td>\n",
       "      <td>completed</td>\n",
       "      <td>group2</td>\n",
       "      <td>68</td>\n",
       "      <td>74</td>\n",
       "      <td>74</td>\n",
       "    </tr>\n",
       "    <tr>\n",
       "      <th>352</th>\n",
       "      <td>352</td>\n",
       "      <td>female</td>\n",
       "      <td>group C</td>\n",
       "      <td>some college</td>\n",
       "      <td>standard</td>\n",
       "      <td>completed</td>\n",
       "      <td>group4</td>\n",
       "      <td>63</td>\n",
       "      <td>78</td>\n",
       "      <td>80</td>\n",
       "    </tr>\n",
       "    <tr>\n",
       "      <th>859</th>\n",
       "      <td>859</td>\n",
       "      <td>male</td>\n",
       "      <td>group C</td>\n",
       "      <td>associate's degree</td>\n",
       "      <td>free/reduced</td>\n",
       "      <td>none</td>\n",
       "      <td>group9</td>\n",
       "      <td>87</td>\n",
       "      <td>73</td>\n",
       "      <td>72</td>\n",
       "    </tr>\n",
       "    <tr>\n",
       "      <th>540</th>\n",
       "      <td>540</td>\n",
       "      <td>male</td>\n",
       "      <td>group C</td>\n",
       "      <td>high school</td>\n",
       "      <td>standard</td>\n",
       "      <td>completed</td>\n",
       "      <td>group6</td>\n",
       "      <td>75</td>\n",
       "      <td>69</td>\n",
       "      <td>68</td>\n",
       "    </tr>\n",
       "  </tbody>\n",
       "</table>\n",
       "</div>"
      ],
      "text/plain": [
       "     index  gender race/ethnicity parental level of education         lunch  \\\n",
       "249    249    male        group C                 high school      standard   \n",
       "410    410  female        group D             master's degree      standard   \n",
       "254    254    male        group D                 high school      standard   \n",
       "487    487  female        group C          associate's degree  free/reduced   \n",
       "303    303    male        group B          associate's degree      standard   \n",
       "383    383  female        group E            some high school  free/reduced   \n",
       "101    101    male        group D           bachelor's degree      standard   \n",
       "352    352  female        group C                some college      standard   \n",
       "859    859    male        group C          associate's degree  free/reduced   \n",
       "540    540    male        group C                 high school      standard   \n",
       "\n",
       "    test preparation course   group  math score  reading score  writing score  \n",
       "249                    none  group3          68             60             53  \n",
       "410               completed  group5          70             71             74  \n",
       "254                    none  group3          54             52             52  \n",
       "487                    none  group5          60             75             74  \n",
       "303                    none  group4          80             76             64  \n",
       "383                    none  group4          38             49             45  \n",
       "101               completed  group2          68             74             74  \n",
       "352               completed  group4          63             78             80  \n",
       "859                    none  group9          87             73             72  \n",
       "540               completed  group6          75             69             68  "
      ]
     },
     "execution_count": 261,
     "metadata": {},
     "output_type": "execute_result"
    }
   ],
   "source": [
    "data = pd.concat([pd.merge(pd.read_csv(f'Data\\Students_info_{i}.csv'), pd.read_csv(f'Data\\Students_marks_{i}.csv'), on='index') for i in range(10)], ignore_index=True)\n",
    "data.sample(10)"
   ]
  },
  {
   "cell_type": "markdown",
   "id": "8a8c3331-52f9-479b-a6be-45faa31216bf",
   "metadata": {
    "_uuid": "8524af4cbd2f7b7810e8a3095a74c9fe1df7eafa"
   },
   "source": [
    "#### Задание 2. Удалите столбец index у полученной таблицы. Напечатайте первые 10 строк таблицы."
   ]
  },
  {
   "cell_type": "code",
   "execution_count": 262,
   "id": "4a28cdf0-472f-4eef-9ffc-50143d22cc0e",
   "metadata": {
    "_uuid": "fe62eee87b9b94ab923f57b55eaf0554612aa9e9"
   },
   "outputs": [
    {
     "data": {
      "text/html": [
       "<div>\n",
       "<style scoped>\n",
       "    .dataframe tbody tr th:only-of-type {\n",
       "        vertical-align: middle;\n",
       "    }\n",
       "\n",
       "    .dataframe tbody tr th {\n",
       "        vertical-align: top;\n",
       "    }\n",
       "\n",
       "    .dataframe thead th {\n",
       "        text-align: right;\n",
       "    }\n",
       "</style>\n",
       "<table border=\"1\" class=\"dataframe\">\n",
       "  <thead>\n",
       "    <tr style=\"text-align: right;\">\n",
       "      <th></th>\n",
       "      <th>gender</th>\n",
       "      <th>race/ethnicity</th>\n",
       "      <th>parental level of education</th>\n",
       "      <th>lunch</th>\n",
       "      <th>test preparation course</th>\n",
       "      <th>group</th>\n",
       "      <th>math score</th>\n",
       "      <th>reading score</th>\n",
       "      <th>writing score</th>\n",
       "    </tr>\n",
       "  </thead>\n",
       "  <tbody>\n",
       "    <tr>\n",
       "      <th>0</th>\n",
       "      <td>female</td>\n",
       "      <td>group B</td>\n",
       "      <td>bachelor's degree</td>\n",
       "      <td>standard</td>\n",
       "      <td>none</td>\n",
       "      <td>group1</td>\n",
       "      <td>72</td>\n",
       "      <td>72</td>\n",
       "      <td>74</td>\n",
       "    </tr>\n",
       "    <tr>\n",
       "      <th>1</th>\n",
       "      <td>female</td>\n",
       "      <td>group C</td>\n",
       "      <td>some college</td>\n",
       "      <td>standard</td>\n",
       "      <td>completed</td>\n",
       "      <td>group1</td>\n",
       "      <td>69</td>\n",
       "      <td>90</td>\n",
       "      <td>88</td>\n",
       "    </tr>\n",
       "    <tr>\n",
       "      <th>2</th>\n",
       "      <td>female</td>\n",
       "      <td>group B</td>\n",
       "      <td>master's degree</td>\n",
       "      <td>standard</td>\n",
       "      <td>none</td>\n",
       "      <td>group1</td>\n",
       "      <td>90</td>\n",
       "      <td>95</td>\n",
       "      <td>93</td>\n",
       "    </tr>\n",
       "    <tr>\n",
       "      <th>3</th>\n",
       "      <td>male</td>\n",
       "      <td>group A</td>\n",
       "      <td>associate's degree</td>\n",
       "      <td>free/reduced</td>\n",
       "      <td>none</td>\n",
       "      <td>group1</td>\n",
       "      <td>47</td>\n",
       "      <td>57</td>\n",
       "      <td>44</td>\n",
       "    </tr>\n",
       "    <tr>\n",
       "      <th>4</th>\n",
       "      <td>male</td>\n",
       "      <td>group C</td>\n",
       "      <td>some college</td>\n",
       "      <td>standard</td>\n",
       "      <td>none</td>\n",
       "      <td>group1</td>\n",
       "      <td>76</td>\n",
       "      <td>78</td>\n",
       "      <td>75</td>\n",
       "    </tr>\n",
       "    <tr>\n",
       "      <th>5</th>\n",
       "      <td>female</td>\n",
       "      <td>group B</td>\n",
       "      <td>associate's degree</td>\n",
       "      <td>standard</td>\n",
       "      <td>none</td>\n",
       "      <td>group1</td>\n",
       "      <td>71</td>\n",
       "      <td>83</td>\n",
       "      <td>78</td>\n",
       "    </tr>\n",
       "    <tr>\n",
       "      <th>6</th>\n",
       "      <td>female</td>\n",
       "      <td>group B</td>\n",
       "      <td>some college</td>\n",
       "      <td>standard</td>\n",
       "      <td>completed</td>\n",
       "      <td>group1</td>\n",
       "      <td>88</td>\n",
       "      <td>95</td>\n",
       "      <td>92</td>\n",
       "    </tr>\n",
       "    <tr>\n",
       "      <th>7</th>\n",
       "      <td>male</td>\n",
       "      <td>group B</td>\n",
       "      <td>some college</td>\n",
       "      <td>free/reduced</td>\n",
       "      <td>none</td>\n",
       "      <td>group1</td>\n",
       "      <td>40</td>\n",
       "      <td>43</td>\n",
       "      <td>39</td>\n",
       "    </tr>\n",
       "    <tr>\n",
       "      <th>8</th>\n",
       "      <td>male</td>\n",
       "      <td>group D</td>\n",
       "      <td>high school</td>\n",
       "      <td>free/reduced</td>\n",
       "      <td>completed</td>\n",
       "      <td>group1</td>\n",
       "      <td>64</td>\n",
       "      <td>64</td>\n",
       "      <td>67</td>\n",
       "    </tr>\n",
       "    <tr>\n",
       "      <th>9</th>\n",
       "      <td>female</td>\n",
       "      <td>group B</td>\n",
       "      <td>high school</td>\n",
       "      <td>free/reduced</td>\n",
       "      <td>none</td>\n",
       "      <td>group1</td>\n",
       "      <td>38</td>\n",
       "      <td>60</td>\n",
       "      <td>50</td>\n",
       "    </tr>\n",
       "  </tbody>\n",
       "</table>\n",
       "</div>"
      ],
      "text/plain": [
       "   gender race/ethnicity parental level of education         lunch  \\\n",
       "0  female        group B           bachelor's degree      standard   \n",
       "1  female        group C                some college      standard   \n",
       "2  female        group B             master's degree      standard   \n",
       "3    male        group A          associate's degree  free/reduced   \n",
       "4    male        group C                some college      standard   \n",
       "5  female        group B          associate's degree      standard   \n",
       "6  female        group B                some college      standard   \n",
       "7    male        group B                some college  free/reduced   \n",
       "8    male        group D                 high school  free/reduced   \n",
       "9  female        group B                 high school  free/reduced   \n",
       "\n",
       "  test preparation course   group  math score  reading score  writing score  \n",
       "0                    none  group1          72             72             74  \n",
       "1               completed  group1          69             90             88  \n",
       "2                    none  group1          90             95             93  \n",
       "3                    none  group1          47             57             44  \n",
       "4                    none  group1          76             78             75  \n",
       "5                    none  group1          71             83             78  \n",
       "6               completed  group1          88             95             92  \n",
       "7                    none  group1          40             43             39  \n",
       "8               completed  group1          64             64             67  \n",
       "9                    none  group1          38             60             50  "
      ]
     },
     "execution_count": 262,
     "metadata": {},
     "output_type": "execute_result"
    }
   ],
   "source": [
    "data.drop('index', axis=1, inplace=True)\n",
    "data.head(10)"
   ]
  },
  {
   "cell_type": "markdown",
   "id": "d5ed338f-4595-44f7-9187-ccf713c7686c",
   "metadata": {
    "_uuid": "5fcd622942b7ecfc318934c6a245d3bb3bf01e84"
   },
   "source": [
    "#### Задание 3. Выведите на экран размеры полученной таблицы"
   ]
  },
  {
   "cell_type": "code",
   "execution_count": 263,
   "id": "a25bf0ae-2301-4ae9-9f50-7fe5b273c17e",
   "metadata": {
    "_uuid": "16281cd7b4e941ebed8ca2e1b42f62f55d838684"
   },
   "outputs": [
    {
     "name": "stdout",
     "output_type": "stream",
     "text": [
      "Height: 1000, width: 9\n"
     ]
    }
   ],
   "source": [
    "print(f'Height: {len(data.index)}, width: {len(data.columns)}')"
   ]
  },
  {
   "cell_type": "markdown",
   "id": "ab7a1abe-28d8-49eb-96ae-5448f7f999fc",
   "metadata": {
    "_uuid": "fe8e3d58d29ca25dbbcf001392377643e6ff9a36"
   },
   "source": [
    "#### Задание 4. Выведите на экран статистические характеристики числовых столбцов таблицы (минимум, максимум, среднее значение, стандартное отклонение)"
   ]
  },
  {
   "cell_type": "code",
   "execution_count": 264,
   "id": "e041de25-ec94-479c-b941-44007cb8fa4c",
   "metadata": {
    "_uuid": "e3d4bb80d2c4251fe517c24fcf08c5ff2d67b8aa"
   },
   "outputs": [
    {
     "data": {
      "text/html": [
       "<div>\n",
       "<style scoped>\n",
       "    .dataframe tbody tr th:only-of-type {\n",
       "        vertical-align: middle;\n",
       "    }\n",
       "\n",
       "    .dataframe tbody tr th {\n",
       "        vertical-align: top;\n",
       "    }\n",
       "\n",
       "    .dataframe thead th {\n",
       "        text-align: right;\n",
       "    }\n",
       "</style>\n",
       "<table border=\"1\" class=\"dataframe\">\n",
       "  <thead>\n",
       "    <tr style=\"text-align: right;\">\n",
       "      <th></th>\n",
       "      <th>math score</th>\n",
       "      <th>reading score</th>\n",
       "      <th>writing score</th>\n",
       "    </tr>\n",
       "  </thead>\n",
       "  <tbody>\n",
       "    <tr>\n",
       "      <th>count</th>\n",
       "      <td>1000.00000</td>\n",
       "      <td>1000.000000</td>\n",
       "      <td>1000.000000</td>\n",
       "    </tr>\n",
       "    <tr>\n",
       "      <th>mean</th>\n",
       "      <td>66.08900</td>\n",
       "      <td>69.169000</td>\n",
       "      <td>68.054000</td>\n",
       "    </tr>\n",
       "    <tr>\n",
       "      <th>std</th>\n",
       "      <td>15.16308</td>\n",
       "      <td>14.600192</td>\n",
       "      <td>15.195657</td>\n",
       "    </tr>\n",
       "    <tr>\n",
       "      <th>min</th>\n",
       "      <td>0.00000</td>\n",
       "      <td>17.000000</td>\n",
       "      <td>10.000000</td>\n",
       "    </tr>\n",
       "    <tr>\n",
       "      <th>25%</th>\n",
       "      <td>57.00000</td>\n",
       "      <td>59.000000</td>\n",
       "      <td>57.750000</td>\n",
       "    </tr>\n",
       "    <tr>\n",
       "      <th>50%</th>\n",
       "      <td>66.00000</td>\n",
       "      <td>70.000000</td>\n",
       "      <td>69.000000</td>\n",
       "    </tr>\n",
       "    <tr>\n",
       "      <th>75%</th>\n",
       "      <td>77.00000</td>\n",
       "      <td>79.000000</td>\n",
       "      <td>79.000000</td>\n",
       "    </tr>\n",
       "    <tr>\n",
       "      <th>max</th>\n",
       "      <td>100.00000</td>\n",
       "      <td>100.000000</td>\n",
       "      <td>100.000000</td>\n",
       "    </tr>\n",
       "  </tbody>\n",
       "</table>\n",
       "</div>"
      ],
      "text/plain": [
       "       math score  reading score  writing score\n",
       "count  1000.00000    1000.000000    1000.000000\n",
       "mean     66.08900      69.169000      68.054000\n",
       "std      15.16308      14.600192      15.195657\n",
       "min       0.00000      17.000000      10.000000\n",
       "25%      57.00000      59.000000      57.750000\n",
       "50%      66.00000      70.000000      69.000000\n",
       "75%      77.00000      79.000000      79.000000\n",
       "max     100.00000     100.000000     100.000000"
      ]
     },
     "execution_count": 264,
     "metadata": {},
     "output_type": "execute_result"
    }
   ],
   "source": [
    "data.select_dtypes('int64').describe()"
   ]
  },
  {
   "cell_type": "markdown",
   "id": "90b50bb7-a0fb-48f5-9e21-5d1c3e631d7b",
   "metadata": {
    "_uuid": "b26b7de83485ecb3b8a0a7865a596e24527c7b2f"
   },
   "source": [
    "#### Задание 5. Проверьте, есть ли в таблице пропущенные значения"
   ]
  },
  {
   "cell_type": "code",
   "execution_count": 265,
   "id": "ac8eb9df-f1fa-4f50-bcb2-f72775a38788",
   "metadata": {
    "_uuid": "4eac3f8f83d07c6e58ad1576fe0e773f37034a2f"
   },
   "outputs": [
    {
     "name": "stdout",
     "output_type": "stream",
     "text": [
      "There is no missing data\n"
     ]
    }
   ],
   "source": [
    "print('There is some missing data' if data.isna().any().any() else 'There is no missing data')"
   ]
  },
  {
   "cell_type": "markdown",
   "id": "b9b58fe9-6a16-4dc6-83d8-dcd7daf7d34e",
   "metadata": {},
   "source": [
    "#### Задание 6. Выведите на экран средние баллы студентов по каждому предмету (math, reading, writing)"
   ]
  },
  {
   "cell_type": "code",
   "execution_count": 266,
   "id": "2085b192-badc-4a42-b7c9-8cf12450078e",
   "metadata": {},
   "outputs": [
    {
     "name": "stdout",
     "output_type": "stream",
     "text": [
      "Mean math score: 66.089\n",
      "Mean reading score: 69.169\n",
      "Mean writing score: 68.054\n"
     ]
    }
   ],
   "source": [
    "print(f\"Mean math score: {data['math score'].mean()}\",\n",
    "      f\"Mean reading score: {data['reading score'].mean()}\",\n",
    "      f\"Mean writing score: {data['writing score'].mean()}\",\n",
    "      sep='\\n')"
   ]
  },
  {
   "attachments": {},
   "cell_type": "markdown",
   "id": "55cb0af8-ce2f-4682-9dd4-56551fd20f9b",
   "metadata": {},
   "source": [
    "#### Задание 7. Как зависят оценки от того, проходил ли студент курс для подготовки к сдаче экзамена (test preparation course)? Выведите на экран для каждого предмета в отдельности средний балл студентов, проходивших курс для подготовки к экзамену и не проходивших курс."
   ]
  },
  {
   "cell_type": "code",
   "execution_count": 267,
   "id": "518995e9-6cf9-4105-9f7c-2af36b4a793b",
   "metadata": {},
   "outputs": [
    {
     "name": "stdout",
     "output_type": "stream",
     "text": [
      "Scores of those who took the test...\n",
      "Math mean score: 69.696\n",
      "Reading mean score: 73.894\n",
      "Writing mean score: 74.419\n",
      "...and of those who didn't\n",
      "Math mean score: 64.078\n",
      "Reading mean score: 66.534\n",
      "Writing mean score: 64.505\n"
     ]
    }
   ],
   "source": [
    "tmp = data.groupby('test preparation course').mean(numeric_only=True)\n",
    "print(f\"Scores of those who took the test...\",\n",
    "      f\"Math mean score: {tmp['math score']['completed']:.3f}\",\n",
    "      f\"Reading mean score: {tmp['reading score']['completed']:.3f}\",\n",
    "      f\"Writing mean score: {tmp['writing score']['completed']:.3f}\",\n",
    "      f\"...and of those who didn't\",\n",
    "      f\"Math mean score: {tmp['math score']['none']:.3f}\",\n",
    "      f\"Reading mean score: {tmp['reading score']['none']:.3f}\",\n",
    "      f\"Writing mean score: {tmp['writing score']['none']:.3f}\",\n",
    "      sep='\\n')"
   ]
  },
  {
   "attachments": {},
   "cell_type": "markdown",
   "id": "37b58eda-4f6c-46fb-b512-20a57737ba16",
   "metadata": {},
   "source": [
    "#### Задание 8. Выведите на экран все различные значения из столбца lunch."
   ]
  },
  {
   "cell_type": "code",
   "execution_count": 268,
   "id": "6734afc7-8033-492b-ac0a-7bd25c5f084d",
   "metadata": {},
   "outputs": [
    {
     "name": "stdout",
     "output_type": "stream",
     "text": [
      "standard\n",
      "free/reduced\n"
     ]
    }
   ],
   "source": [
    "print(*data['lunch'].unique(), sep='\\n')"
   ]
  },
  {
   "attachments": {},
   "cell_type": "markdown",
   "id": "afce97e3-9c2b-41bc-b608-ea3d646b1baf",
   "metadata": {},
   "source": [
    "#### Задание 9. Переименуйте колонку \"parental level of education\" в \"education\", а \"test preparation course\" в \"test preparation\" с помощью метода pandas rename\n",
    "https://pandas.pydata.org/pandas-docs/stable/reference/api/pandas.DataFrame.rename.html"
   ]
  },
  {
   "cell_type": "code",
   "execution_count": 269,
   "id": "a0343dcf-6750-4904-92a3-7c79e9d71531",
   "metadata": {},
   "outputs": [],
   "source": [
    "data.rename(columns={'parental level of education': 'education', 'test preparation course': 'test preparation'}, inplace=True)"
   ]
  },
  {
   "cell_type": "markdown",
   "id": "62716a3a-e542-4591-9e5f-21405562d510",
   "metadata": {},
   "source": [
    "**Зафиксируем минимальный балл для сдачи экзамена**"
   ]
  },
  {
   "cell_type": "code",
   "execution_count": 270,
   "id": "1b880717-a5e2-4068-b558-ee49037ae982",
   "metadata": {},
   "outputs": [],
   "source": [
    "passmark = 50"
   ]
  },
  {
   "attachments": {},
   "cell_type": "markdown",
   "id": "6772d9c0-a292-442f-9b43-7d9cda72653e",
   "metadata": {},
   "source": [
    "#### Задание 10. Ответьте на вопросы:\n",
    "* Какая доля студентов сдала экзамен по математике (passmark > 50)?\n",
    "* Какая доля студентов, проходивших курс подготовки к экзамену, сдала экзамен по математике?\n",
    "* Какая доля женщин, не проходивших курс подготовки к экзамену, не сдала экзамен по математике? "
   ]
  },
  {
   "cell_type": "code",
   "execution_count": 271,
   "id": "7ab64a23-b011-401e-8f2b-6ce09f4f06f1",
   "metadata": {},
   "outputs": [
    {
     "name": "stdout",
     "output_type": "stream",
     "text": [
      "The number of students who passed the math exam is 86.500%\n",
      "The number of prepared students who passed the math exam is approximately 92.179%\n",
      "The number of unprepared female students who failed the math exam is approximately 20.958%\n"
     ]
    }
   ],
   "source": [
    "print(f\"The number of students who passed the math exam is {len(data[data['math score'] >= passmark]) / len(data) * 100:.3f}%\",\n",
    "      f\"The number of prepared students who passed the math exam is approximately {len(data[(data['math score'] >= passmark) & (data['test preparation'] == 'completed')]) / len(data[data['test preparation'] == 'completed']) * 100:.3f}%\",\n",
    "      f\"The number of unprepared female students who failed the math exam is approximately {len(data[(data['math score'] < passmark) & (data['test preparation'] == 'none') & (data['gender'] == 'female')]) / len(data[(data['test preparation'] == 'none') & (data['gender'] == 'female')]) * 100:.3f}%\",\n",
    "      sep='\\n') #  округлил всё до трёх после запятой для простоты восприятия"
   ]
  },
  {
   "attachments": {},
   "cell_type": "markdown",
   "id": "86341530-07b5-4d7c-9345-282fe36e5893",
   "metadata": {},
   "source": [
    "#### Задание 11. С помощью groupby выполните задания ниже. Также выведите время выполнения каждого из заданий.\n",
    "* Для каждой этнической группы выведите средний балл за экзамен по чтению\n",
    "* Для каждого уровня образования выведите минимальный балл за экзамен по письму"
   ]
  },
  {
   "cell_type": "code",
   "execution_count": 272,
   "id": "f93db1d5-fa0b-4b12-9e66-ebf5b5ec5acc",
   "metadata": {},
   "outputs": [],
   "source": [
    "from time import time"
   ]
  },
  {
   "cell_type": "code",
   "execution_count": 273,
   "id": "13744120",
   "metadata": {},
   "outputs": [
    {
     "name": "stdout",
     "output_type": "stream",
     "text": [
      "The mean reading score for group A is 64.674\n",
      "The mean reading score for group B is 67.353\n",
      "The mean reading score for group C is 69.103\n",
      "The mean reading score for group D is 70.031\n",
      "The mean reading score for group E is 73.029\n",
      "This was computed in 2.012 milliseconds\n"
     ]
    }
   ],
   "source": [
    "start_time1 = time()\n",
    "tmp = [(group[0], group[1].mean()) for group in data.groupby('race/ethnicity')['reading score']]\n",
    "for i in tmp:\n",
    "    print(f'The mean reading score for {i[0]} is {i[1]:.3f}')\n",
    "comp_time1 = time() - start_time1\n",
    "print(f'This was computed in {comp_time1 * 1000:.3f} milliseconds')"
   ]
  },
  {
   "cell_type": "code",
   "execution_count": 274,
   "id": "d7a8f831",
   "metadata": {},
   "outputs": [
    {
     "name": "stderr",
     "output_type": "stream",
     "text": [
      "C:\\Users\\Machenike\\AppData\\Local\\Temp\\ipykernel_14500\\713638166.py:2: FutureWarning: The `inplace` parameter in pandas.Categorical.set_categories is deprecated and will be removed in a future version. Removing unused categories will always return a new Categorical object.\n",
      "  data['education'].cat.set_categories([\"some high school\", \"high school\", \"some college\", \"associate's degree\", \"bachelor's degree\", \"master's degree\"], inplace=True)\n"
     ]
    }
   ],
   "source": [
    "data['education'] = data['education'].astype('category')\n",
    "data['education'].cat.set_categories([\"some high school\", \"high school\", \"some college\", \"associate's degree\", \"bachelor's degree\", \"master's degree\"], inplace=True)"
   ]
  },
  {
   "cell_type": "code",
   "execution_count": 275,
   "id": "01e395ff",
   "metadata": {},
   "outputs": [
    {
     "name": "stdout",
     "output_type": "stream",
     "text": [
      "The minimal writing score for some high school is 10\n",
      "The minimal writing score for high school is 15\n",
      "The minimal writing score for some college is 19\n",
      "The minimal writing score for associate's degree is 35\n",
      "The minimal writing score for bachelor's degree is 38\n",
      "The minimal writing score for master's degree is 46\n",
      "This was computed in 2.680 milliseconds\n"
     ]
    }
   ],
   "source": [
    "start_time2 = time()\n",
    "tmp = [(group[0], group[1].min()) for group in data.groupby('education')['writing score']]\n",
    "for i in tmp:\n",
    "    print(f'The minimal writing score for {i[0]} is {i[1]}')\n",
    "comp_time2 = time() - start_time2\n",
    "print(f'This was computed in {comp_time2 * 1000:.3f} milliseconds')"
   ]
  },
  {
   "attachments": {},
   "cell_type": "markdown",
   "id": "c6737458-b009-4b47-9cbd-6838b6e8d183",
   "metadata": {},
   "source": [
    "#### Задание 12. Выполните задание 11 с помощью циклов. Сравните время выполнения."
   ]
  },
  {
   "cell_type": "code",
   "execution_count": 276,
   "id": "04a246ed-dd25-4998-a0bc-89d17fafa391",
   "metadata": {},
   "outputs": [],
   "source": [
    "from collections import defaultdict"
   ]
  },
  {
   "cell_type": "code",
   "execution_count": 277,
   "id": "294d0f97",
   "metadata": {},
   "outputs": [
    {
     "name": "stdout",
     "output_type": "stream",
     "text": [
      "The mean reading score for group A is 64.674\n",
      "The mean reading score for group B is 67.353\n",
      "The mean reading score for group C is 69.103\n",
      "The mean reading score for group D is 70.031\n",
      "The mean reading score for group E is 73.029\n",
      "This was computed in 39.157 milliseconds, which is 37.145 milliseconds longer than the groupby approach\n"
     ]
    }
   ],
   "source": [
    "start_time3 = time()\n",
    "tmp = defaultdict(lambda: [0, 0])\n",
    "for i in range(1000):\n",
    "    tmp[data['race/ethnicity'][i]][0] += 1\n",
    "    tmp[data['race/ethnicity'][i]][1] += data['reading score'][i]\n",
    "for i in sorted(tmp.keys()):\n",
    "    print(f'The mean reading score for {i} is {tmp[i][1] / tmp[i][0]:.3f}')\n",
    "comp_time3 = time() - start_time3\n",
    "print(f'This was computed in {comp_time3 * 1000:.3f} milliseconds, which is {(comp_time3 - comp_time1) * 1000:.3f} milliseconds longer than the groupby approach')"
   ]
  },
  {
   "cell_type": "code",
   "execution_count": 278,
   "id": "2f4f728a",
   "metadata": {},
   "outputs": [
    {
     "name": "stdout",
     "output_type": "stream",
     "text": [
      "The minimal writing score for some high school is 10\n",
      "The minimal writing score for high school is 15\n",
      "The minimal writing score for some college is 19\n",
      "The minimal writing score for associate's degree is 35\n",
      "The minimal writing score for bachelor's degree is 38\n",
      "The minimal writing score for master's degree is 46\n",
      "This was computed in 53.010 milliseconds, which is 50.329 milliseconds longer than the groupby approach\n"
     ]
    }
   ],
   "source": [
    "start_time4 = time()\n",
    "tmp = defaultdict(lambda: 101)\n",
    "for i in range(1000):\n",
    "    tmp[data['education'][i]] = min(data['writing score'][i], tmp[data['education'][i]])\n",
    "for i in [\"some high school\", \"high school\", \"some college\", \"associate's degree\", \"bachelor's degree\", \"master's degree\"]:\n",
    "    print(f'The minimal writing score for {i} is {tmp[i]}')\n",
    "comp_time4 = time() - start_time4\n",
    "print(f'This was computed in {comp_time4 * 1000:.3f} milliseconds, which is {(comp_time4 - comp_time2) * 1000:.3f} milliseconds longer than the groupby approach')"
   ]
  },
  {
   "attachments": {},
   "cell_type": "markdown",
   "id": "8dee11dd-cd75-4dea-bf11-be51614bdd7b",
   "metadata": {},
   "source": [
    "#### Задание 13. Выведите на экран средние баллы студентов по каждому предмету в зависимости от пола и уровня образования. То есть должно получиться количество групп, равных 2 * (число уровней образования), и для каждой такой группы выыведите средний балл по каждому из предметов.\n",
    "\n",
    "Это можно сделать с помощью сводных таблиц (pivot_table):\n",
    "\n",
    "https://www.kaggle.com/kamilpolak/tutorial-how-to-use-pivot-table-in-pandas"
   ]
  },
  {
   "cell_type": "code",
   "execution_count": 279,
   "id": "ef7de963-d32c-4414-90d9-0b06c06fb8cf",
   "metadata": {},
   "outputs": [
    {
     "data": {
      "text/html": [
       "<div>\n",
       "<style scoped>\n",
       "    .dataframe tbody tr th:only-of-type {\n",
       "        vertical-align: middle;\n",
       "    }\n",
       "\n",
       "    .dataframe tbody tr th {\n",
       "        vertical-align: top;\n",
       "    }\n",
       "\n",
       "    .dataframe thead th {\n",
       "        text-align: right;\n",
       "    }\n",
       "</style>\n",
       "<table border=\"1\" class=\"dataframe\">\n",
       "  <thead>\n",
       "    <tr style=\"text-align: right;\">\n",
       "      <th></th>\n",
       "      <th></th>\n",
       "      <th>math score</th>\n",
       "      <th>reading score</th>\n",
       "      <th>writing score</th>\n",
       "    </tr>\n",
       "    <tr>\n",
       "      <th>gender</th>\n",
       "      <th>education</th>\n",
       "      <th></th>\n",
       "      <th></th>\n",
       "      <th></th>\n",
       "    </tr>\n",
       "  </thead>\n",
       "  <tbody>\n",
       "    <tr>\n",
       "      <th rowspan=\"6\" valign=\"top\">female</th>\n",
       "      <th>some high school</th>\n",
       "      <td>59.296703</td>\n",
       "      <td>69.109890</td>\n",
       "      <td>68.285714</td>\n",
       "    </tr>\n",
       "    <tr>\n",
       "      <th>high school</th>\n",
       "      <td>59.351064</td>\n",
       "      <td>68.202128</td>\n",
       "      <td>66.691489</td>\n",
       "    </tr>\n",
       "    <tr>\n",
       "      <th>some college</th>\n",
       "      <td>65.406780</td>\n",
       "      <td>73.550847</td>\n",
       "      <td>74.050847</td>\n",
       "    </tr>\n",
       "    <tr>\n",
       "      <th>associate's degree</th>\n",
       "      <td>65.250000</td>\n",
       "      <td>74.120690</td>\n",
       "      <td>74.000000</td>\n",
       "    </tr>\n",
       "    <tr>\n",
       "      <th>bachelor's degree</th>\n",
       "      <td>68.349206</td>\n",
       "      <td>77.285714</td>\n",
       "      <td>78.380952</td>\n",
       "    </tr>\n",
       "    <tr>\n",
       "      <th>master's degree</th>\n",
       "      <td>66.500000</td>\n",
       "      <td>76.805556</td>\n",
       "      <td>77.638889</td>\n",
       "    </tr>\n",
       "    <tr>\n",
       "      <th rowspan=\"6\" valign=\"top\">male</th>\n",
       "      <th>some high school</th>\n",
       "      <td>67.840909</td>\n",
       "      <td>64.693182</td>\n",
       "      <td>61.375000</td>\n",
       "    </tr>\n",
       "    <tr>\n",
       "      <th>high school</th>\n",
       "      <td>64.705882</td>\n",
       "      <td>61.480392</td>\n",
       "      <td>58.539216</td>\n",
       "    </tr>\n",
       "    <tr>\n",
       "      <th>some college</th>\n",
       "      <td>69.009259</td>\n",
       "      <td>64.990741</td>\n",
       "      <td>63.148148</td>\n",
       "    </tr>\n",
       "    <tr>\n",
       "      <th>associate's degree</th>\n",
       "      <td>70.764151</td>\n",
       "      <td>67.433962</td>\n",
       "      <td>65.405660</td>\n",
       "    </tr>\n",
       "    <tr>\n",
       "      <th>bachelor's degree</th>\n",
       "      <td>70.581818</td>\n",
       "      <td>68.090909</td>\n",
       "      <td>67.654545</td>\n",
       "    </tr>\n",
       "    <tr>\n",
       "      <th>master's degree</th>\n",
       "      <td>74.826087</td>\n",
       "      <td>73.130435</td>\n",
       "      <td>72.608696</td>\n",
       "    </tr>\n",
       "  </tbody>\n",
       "</table>\n",
       "</div>"
      ],
      "text/plain": [
       "                           math score  reading score  writing score\n",
       "gender education                                                   \n",
       "female some high school     59.296703      69.109890      68.285714\n",
       "       high school          59.351064      68.202128      66.691489\n",
       "       some college         65.406780      73.550847      74.050847\n",
       "       associate's degree   65.250000      74.120690      74.000000\n",
       "       bachelor's degree    68.349206      77.285714      78.380952\n",
       "       master's degree      66.500000      76.805556      77.638889\n",
       "male   some high school     67.840909      64.693182      61.375000\n",
       "       high school          64.705882      61.480392      58.539216\n",
       "       some college         69.009259      64.990741      63.148148\n",
       "       associate's degree   70.764151      67.433962      65.405660\n",
       "       bachelor's degree    70.581818      68.090909      67.654545\n",
       "       master's degree      74.826087      73.130435      72.608696"
      ]
     },
     "execution_count": 279,
     "metadata": {},
     "output_type": "execute_result"
    }
   ],
   "source": [
    "data.pivot_table(index=['gender', 'education'], values=['math score', 'reading score', 'writing score'])"
   ]
  },
  {
   "cell_type": "markdown",
   "id": "972041f2-1496-4e0f-9e92-f33d5574cf06",
   "metadata": {
    "_uuid": "3e832cb427c4314582d1953a41b8c78db75e30e3"
   },
   "source": [
    "#### Задание 14. Сколько студентов успешно сдали экзамен по математике?\n",
    "\n",
    "Создайте новый столбец в таблице df под названием Math_PassStatus и запишите в него F, если студент не сдал экзамен по математике (балл за экзамен < passmark), и P иначе.\n",
    "\n",
    "Посчитайте количество студентов, сдавших и не сдавших экзамен по математике.\n",
    "\n",
    "Сделайте аналогичные шаги для экзаменов по чтению и письму."
   ]
  },
  {
   "cell_type": "code",
   "execution_count": 291,
   "id": "1f2b5e30-155d-4d3e-80af-542e0b6caf16",
   "metadata": {
    "_uuid": "f43cddb72cc96b30df84bc0de83a4d9170904340"
   },
   "outputs": [
    {
     "name": "stdout",
     "output_type": "stream",
     "text": [
      "865 of students passed the math exam, while 135 didn't\n",
      "910 of students passed the reading exam, while 90 didn't\n",
      "886 of students passed the writing exam, while 114 didn't\n"
     ]
    }
   ],
   "source": [
    "data['Math_PassStatus'] = data['math score'].apply(lambda x: 'F' if x < passmark else 'P')\n",
    "data['Reading_PassStatus'] = data['reading score'].apply(lambda x: 'F' if x < passmark else 'P')\n",
    "data['Writing_PassStatus'] = data['writing score'].apply(lambda x: 'F' if x < passmark else 'P')\n",
    "print(f\"{len(data[data['Math_PassStatus'] == 'P'])} of students passed the math exam, while {len(data[data['Math_PassStatus'] == 'F'])} didn't\",\n",
    "      f\"{len(data[data['Reading_PassStatus'] == 'P'])} of students passed the reading exam, while {len(data[data['Reading_PassStatus'] == 'F'])} didn't\",\n",
    "      f\"{len(data[data['Writing_PassStatus'] == 'P'])} of students passed the writing exam, while {len(data[data['Writing_PassStatus'] == 'F'])} didn't\",\n",
    "      sep='\\n')"
   ]
  },
  {
   "cell_type": "markdown",
   "id": "b79c0d6b-2131-4d07-9f16-40438729e1c4",
   "metadata": {
    "_uuid": "b753c90914ee65501e2ed263ea614d88a381c472"
   },
   "source": [
    "#### Задание 15. Сколько студентов успешно сдали все экзамены?\n",
    "\n",
    "Создайте столбец OverAll_PassStatus и запишите в него для каждого студента 'F', если студент не сдал хотя бы один из трех экзаменов, а иначе 'P'.\n",
    "\n",
    "Посчитайте количество студентов, которые сдали все экзамены."
   ]
  },
  {
   "cell_type": "code",
   "execution_count": 296,
   "id": "d7ead03e-f0a9-4ca8-9dbc-d84aa277620c",
   "metadata": {
    "_uuid": "e98f895a022b967cab801447b616222439fe9d84"
   },
   "outputs": [
    {
     "name": "stdout",
     "output_type": "stream",
     "text": [
      "812 of students passed every exam, while 188 didn't\n"
     ]
    }
   ],
   "source": [
    "data['OverAll_PassStatus'] = data.T.apply(lambda x: 'P' if x['Math_PassStatus'] == 'P' and x['Reading_PassStatus'] == 'P' and x['Writing_PassStatus'] == 'P' else 'F')\n",
    "print(f\"{len(data[data['OverAll_PassStatus'] == 'P'])} of students passed every exam, while {len(data[data['OverAll_PassStatus'] == 'F'])} didn't\")"
   ]
  },
  {
   "attachments": {},
   "cell_type": "markdown",
   "id": "cab1c25f-1258-48c8-859f-6a9da15ac803",
   "metadata": {
    "_uuid": "3af9c6cb4cbfff66d4ae09509f10b8b6ce33075d"
   },
   "source": [
    "#### Задание 16. Переведем баллы в оценки\n",
    "\n",
    "**Система перевода баллов в оценки**\n",
    "*      [90;100] = A\n",
    "*      [80;90) = B\n",
    "*      [70;80) = C\n",
    "*      [60;70) = D\n",
    "*      [50;60) = E\n",
    "*      [0;50) = F (Fail)\n",
    "\n",
    "Создайте вспомогательную функцию, которая будет по среднему баллу за три экзамена выставлять оценку студенту по данным выше критериям.\n",
    "\n",
    "Создайте столбец Grade и запишите в него оценку каждого студента.\n",
    "\n",
    "Выведите количество студентов, получивших каждую из оценок."
   ]
  },
  {
   "cell_type": "code",
   "execution_count": 302,
   "id": "d1030b39-c10d-4cd9-b079-5481b22f0fba",
   "metadata": {
    "_uuid": "04707c5be4237020b906d2ac705a0db3d620506f"
   },
   "outputs": [
    {
     "name": "stdout",
     "output_type": "stream",
     "text": [
      "103 students got F\n",
      "182 students got E\n",
      "256 students got D\n",
      "261 students got C\n",
      "146 students got B\n",
      "52 students got A\n"
     ]
    }
   ],
   "source": [
    "def GetGrade(average_mark: int):\n",
    "    if average_mark < 50:\n",
    "        return 'F'\n",
    "    if average_mark == 100:\n",
    "        return 'A'\n",
    "    return list('EDCBA')[int(str(average_mark)[0]) - 5]\n",
    "\n",
    "data['Grade'] = data.T.apply(lambda x: GetGrade((x['math score'] + x['reading score'] + x['writing score']) / 3))\n",
    "print(f\"{len(data[data['Grade'] == 'F'])} students got F\",\n",
    "      f\"{len(data[data['Grade'] == 'E'])} students got E\",\n",
    "      f\"{len(data[data['Grade'] == 'D'])} students got D\",\n",
    "      f\"{len(data[data['Grade'] == 'C'])} students got C\",\n",
    "      f\"{len(data[data['Grade'] == 'B'])} students got B\",\n",
    "      f\"{len(data[data['Grade'] == 'A'])} students got A\",\n",
    "      sep='\\n')"
   ]
  },
  {
   "cell_type": "markdown",
   "id": "e407875f-4a91-4fc0-ae8f-b2f974aad57e",
   "metadata": {},
   "source": [
    "## numpy"
   ]
  },
  {
   "cell_type": "markdown",
   "id": "eb6f42c1-a765-46f1-9963-2d2fddf873af",
   "metadata": {},
   "source": [
    "Во всех задачах необходимо написать код решения внутри функции и убедиться, что она работает, с помощью [assert](https://python-reference.readthedocs.io/en/latest/docs/statements/assert.html) на выражение с использованием этой функции для данных из условия.\n",
    "\n",
    "При решении задач запрещается использовать циклы (`for`, `while`) и оператор `if`.\n",
    "\n",
    "Везде, где встречаются массивы или матрицы, подразумевается, что это `numpy.array`.\n",
    "\n",
    "**numpy reference:** https://numpy.org/doc/stable/reference/index.html"
   ]
  },
  {
   "cell_type": "code",
   "execution_count": 326,
   "id": "75b14777-c4f1-4190-9830-5172d63bac63",
   "metadata": {
    "pycharm": {
     "name": "#%%\n"
    }
   },
   "outputs": [],
   "source": [
    "import numpy as np\n",
    "import math"
   ]
  },
  {
   "cell_type": "markdown",
   "id": "c79c71d5-1a58-4a2d-9085-632e8c0e5dc7",
   "metadata": {},
   "source": [
    "### Задание 1"
   ]
  },
  {
   "cell_type": "markdown",
   "id": "a3a69ea6-31dc-461d-9fc9-b8293f3025e3",
   "metadata": {},
   "source": [
    "Напишите функцию, возвращающую округленную взвешенную сумму оценок по данным оценкам и весам. Можете посчитать свою оценку за курс :) В нашем случае вес экзамена равен 0.3, вес домашек - 0.4, вес контрольной - 0.2, вес самостоятельных - 0.1. Например, если за экзамен у вас 7, за домашки 10, за контрольную 8, а за самостоятельные 6, то вы получите отличную оценку 8!"
   ]
  },
  {
   "cell_type": "code",
   "execution_count": 306,
   "id": "e779cffd-fee1-499a-b9b5-386137d1d5c2",
   "metadata": {
    "pycharm": {
     "name": "#%%\n"
    }
   },
   "outputs": [],
   "source": [
    "def result_mark(weights: np.ndarray, marks: np.ndarray) -> int:\n",
    "    return int(sum(weights * marks))"
   ]
  },
  {
   "cell_type": "code",
   "execution_count": 307,
   "id": "578f26b7-7303-47f2-bd1a-b5d19a2c5653",
   "metadata": {
    "pycharm": {
     "name": "#%%\n"
    }
   },
   "outputs": [],
   "source": [
    "weights = np.array([0.3, 0.4, 0.2, 0.1])\n",
    "marks = np.array([7, 10, 8, 6])\n",
    "\n",
    "assert result_mark(weights, marks) == 8"
   ]
  },
  {
   "cell_type": "code",
   "execution_count": 308,
   "id": "243794fd-d019-490f-9073-20b180ac586c",
   "metadata": {
    "pycharm": {
     "name": "#%%\n"
    }
   },
   "outputs": [],
   "source": [
    "weights = np.array([0.3, 0.4, 0.2, 0.1])\n",
    "marks = np.array([7, 0, 8, 6])\n",
    "\n",
    "assert result_mark(weights, marks) == 4"
   ]
  },
  {
   "cell_type": "markdown",
   "id": "79e64ee5-b3c4-481a-891a-d61dee6d3eb8",
   "metadata": {},
   "source": [
    "### Задание 2"
   ]
  },
  {
   "cell_type": "markdown",
   "id": "a6d6acd9-28a5-40f7-ae42-13458d58352c",
   "metadata": {},
   "source": [
    "Напишите функцию, меняющую каждое третье (начиная с 0) значение массива целых чисел на заданное число. Например, если на вход поступает массив `array([3, 5, 1, 0, -3, 22, 213436])` и число `-111`, то на выходе должен получиться массив `array([-111, 5, 1, -111, -3, 22, -111])`."
   ]
  },
  {
   "cell_type": "code",
   "execution_count": 323,
   "id": "769d2063-8118-43bc-a9b7-69563c33b146",
   "metadata": {
    "pycharm": {
     "name": "#%%\n"
    }
   },
   "outputs": [],
   "source": [
    "def change_array(arr: np.ndarray, number: int) -> np.ndarray:\n",
    "    arr[::3] = np.array([number] * (len(arr) // 3 + 1))\n",
    "    return arr"
   ]
  },
  {
   "cell_type": "code",
   "execution_count": 324,
   "id": "e55a6060-a330-461d-9ed2-a72081ce7d8e",
   "metadata": {
    "pycharm": {
     "name": "#%%\n"
    }
   },
   "outputs": [],
   "source": [
    "arr = np.array([3, 5, 1, 0, -3, 22, 213436])\n",
    "number = -111\n",
    "\n",
    "assert np.allclose(change_array(arr, number), np.array([-111, 5, 1, -111, -3, 22, -111]))"
   ]
  },
  {
   "cell_type": "code",
   "execution_count": 325,
   "id": "29de2c32-8834-4f0e-8881-1814692d07f2",
   "metadata": {
    "pycharm": {
     "name": "#%%\n"
    }
   },
   "outputs": [],
   "source": [
    "arr = np.array([3, 14, 15, 92, 6])\n",
    "number = 8\n",
    "\n",
    "assert np.allclose(change_array(arr, number), np.array([8, 14, 15, 8, 6]))"
   ]
  },
  {
   "cell_type": "markdown",
   "id": "f9603d5b-2691-4eab-94ea-83fcd9434ff8",
   "metadata": {},
   "source": [
    "### Задание 3"
   ]
  },
  {
   "cell_type": "markdown",
   "id": "d1d20b5d-60a5-4fab-90ac-30a79da98cbd",
   "metadata": {},
   "source": [
    "Напишите функцию, выдающую индексы «близких» элементов заданных массивов, а именно тех пар элементов, чей модуль разницы не превосходит заданного значения. Например, если на вход поступают массив `array([1.5, 0.5, 2, -4.1, -3, 6, -1])`, массив `array([1.2, 0.5, 1, -4, 3, 0, -1.2])` и число `0.5`, то на выходе должен получиться массив `array([0, 1, 3, 6])` (**важно: не `tuple`, а одномерный массив типа `numpy.ndarray` (то есть `.ndim` от него равно 1)!**)."
   ]
  },
  {
   "cell_type": "code",
   "execution_count": 338,
   "id": "ce8a2a7e-0eb5-4ab5-bb02-48b466e0c77e",
   "metadata": {
    "pycharm": {
     "name": "#%%\n"
    }
   },
   "outputs": [],
   "source": [
    "def find_close(array1: np.ndarray, array2: np.ndarray,\n",
    "               precision: float) -> np.ndarray:\n",
    "    return np.array(np.where(np.abs(array1 - array2) <= precision)).flatten()"
   ]
  },
  {
   "cell_type": "code",
   "execution_count": 339,
   "id": "004927a3-8a6c-446b-ae19-1404738be7b8",
   "metadata": {
    "pycharm": {
     "name": "#%%\n"
    }
   },
   "outputs": [],
   "source": [
    "array1 = np.array([1.5, 0.5, 2, -4.1, -3, 6, -1])\n",
    "array2 = np.array([1.2, 0.5, 1, -4.0,  3, 0, -1.2])\n",
    "precision = 0.5\n",
    "res = find_close(array1, array2, precision)\n",
    "\n",
    "assert res.ndim == 1\n",
    "assert np.allclose(res, np.array([0, 1, 3, 6]))"
   ]
  },
  {
   "cell_type": "code",
   "execution_count": 340,
   "id": "91535409-1ba4-4099-a0b1-10a52b2d36cd",
   "metadata": {
    "pycharm": {
     "name": "#%%\n"
    }
   },
   "outputs": [],
   "source": [
    "array1 = np.array([3.1415, 2.7182, 1.6180, 6.6261])\n",
    "array2 = np.array([6.6730, 1.3807, -1,     6.0222])\n",
    "precision = 1.7\n",
    "res = find_close(array1, array2, precision)\n",
    "\n",
    "assert res.ndim == 1\n",
    "assert np.allclose(res, np.array([1, 3]))"
   ]
  },
  {
   "cell_type": "markdown",
   "id": "f8e0f31e-423c-4abb-9360-0e86e905e8e4",
   "metadata": {},
   "source": [
    "### Задание 4"
   ]
  },
  {
   "cell_type": "markdown",
   "id": "b2209465-3429-461f-8bbc-add8fe4951bd",
   "metadata": {},
   "source": [
    "Напишите функцию, которая составляет блочную матрицу из четырех блоков, где каждый блок - это заданная матрица. Например, если на вход поступает матрица\n",
    "$$\n",
    "\\begin{pmatrix}\n",
    "0 & 1 & 2\\\\\n",
    "3 & 4 & 5\\\\\n",
    "\\end{pmatrix},\n",
    "$$\n",
    "то ответом будет матрица\n",
    "$$\n",
    "\\begin{pmatrix}\n",
    "0 & 1 & 2 & 0 & 1 & 2\\\\\n",
    "3 & 4 & 5 & 3 & 4 & 5\\\\\n",
    "0 & 1 & 2 & 0 & 1 & 2\\\\\n",
    "3 & 4 & 5 & 3 & 4 & 5\\\\\n",
    "\\end{pmatrix}\n",
    "$$"
   ]
  },
  {
   "cell_type": "code",
   "execution_count": 341,
   "id": "d1c42d27-efa1-4bde-a31a-9adb8d2843e7",
   "metadata": {
    "pycharm": {
     "name": "#%%\n"
    }
   },
   "outputs": [],
   "source": [
    "def block_matrix(block: np.ndarray) -> np.ndarray:\n",
    "    return np.tile(block, (2, 2))"
   ]
  },
  {
   "cell_type": "code",
   "execution_count": 342,
   "id": "23b13b13-b6e8-4a72-bee8-ae9ad0667c79",
   "metadata": {
    "pycharm": {
     "name": "#%%\n"
    }
   },
   "outputs": [],
   "source": [
    "block = np.array([[1, 3, 3], [7, 0, 0]])\n",
    "\n",
    "assert np.allclose(\n",
    "    block_matrix(block),\n",
    "    np.array([[1, 3, 3, 1, 3, 3],\n",
    "              [7, 0, 0, 7, 0, 0],\n",
    "              [1, 3, 3, 1, 3, 3],\n",
    "              [7, 0, 0, 7, 0, 0]])\n",
    ")"
   ]
  },
  {
   "cell_type": "markdown",
   "id": "130621cf-e37e-4465-a10b-cdf692ba49c8",
   "metadata": {},
   "source": [
    "### Задание 5"
   ]
  },
  {
   "cell_type": "markdown",
   "id": "1cfc1ad1-78e2-4fdb-9cd7-210e3a551fb5",
   "metadata": {},
   "source": [
    "Напишите функцию, вычисляющую произведение всех ненулевых диагональных элементов на диагонали данной квадратной матрицы. Например, если на вход поступает матрица\n",
    "$$\n",
    "\\begin{pmatrix}\n",
    "0 & 1 & 2\\\\\n",
    "3 & 4 & 5\\\\\n",
    "6 & 7 & 8\\\\\n",
    "\\end{pmatrix},\n",
    "$$\n",
    "то ответом будет 32.\n",
    "\n",
    "Элементы матрицы считать целочисленными."
   ]
  },
  {
   "cell_type": "code",
   "execution_count": 343,
   "id": "ef3338ab-8f2d-481b-97c3-d90da1ea19aa",
   "metadata": {
    "pycharm": {
     "name": "#%%\n"
    }
   },
   "outputs": [],
   "source": [
    "def diag_prod(matrix: np.ndarray) -> int:\n",
    "    return matrix.diagonal()[matrix.diagonal().nonzero()].prod()"
   ]
  },
  {
   "cell_type": "code",
   "execution_count": 344,
   "id": "f55ea779-0ffa-446e-8048-4d74bc78a9d2",
   "metadata": {
    "pycharm": {
     "name": "#%%\n"
    }
   },
   "outputs": [],
   "source": [
    "matrix = np.array([[0, 1, 2, 3],\n",
    "                   [4, 5, 6, 7],\n",
    "                   [8, 9, 10, 11],\n",
    "                   [12, 13, 14, 15]])\n",
    "\n",
    "assert diag_prod(matrix) == 750"
   ]
  },
  {
   "cell_type": "markdown",
   "id": "c549efee-d408-4b97-a524-3ad7cb6b82e1",
   "metadata": {},
   "source": [
    "### Задание 6"
   ]
  },
  {
   "cell_type": "markdown",
   "id": "5788f05c-31f6-4b1e-b4b9-6773fd04d485",
   "metadata": {},
   "source": [
    "Для улучшения качества работы некоторых алгоритмов машинного обучения может быть полезно использовать [нормализацию данных](https://vk.cc/8xmfQk), чтобы привести признаки в выборке к одному масштабу — а именно, из каждого столбца вычесть среднее его значений и поделить на их стандартное отклонение. Напишите функцию, нормализующую входящую матрицу (по столбцам). Например, если на вход подается матрица \n",
    "$$\n",
    "\\begin{pmatrix}\n",
    "1 & 4 & 4200\\\\\n",
    "0 & 10 & 5000\\\\\n",
    "1 & 2 & 1000\\\\\n",
    "\\end{pmatrix},\n",
    "$$\n",
    "то результатом с точностью до сотых будет матрица\n",
    "$$\n",
    "\\begin{pmatrix}\n",
    "0.71 & -0.39 & 0.46\\\\\n",
    "-1.41 & 1.37 & 0.93\\\\\n",
    "0.71 & -0.98 & -1.39\\\\\n",
    "\\end{pmatrix}\n",
    "$$\n",
    "\n",
    "Учтите, что в вашем матрице не должно получаться никаких nan. Подумайте, в каком случае они могут возникнуть и как обойти эту проблему.\n",
    "\n",
    "_Подсказка. Казалось бы, при чем тут деление на ноль._"
   ]
  },
  {
   "cell_type": "code",
   "execution_count": 352,
   "id": "8080749d-c777-44d4-ac6a-2690a9942380",
   "metadata": {
    "pycharm": {
     "name": "#%%\n"
    }
   },
   "outputs": [],
   "source": [
    "def normalize(matrix: np.ndarray) -> np.ndarray:\n",
    "    return (matrix - np.mean(matrix, axis=0)) / np.std(matrix, axis=0)"
   ]
  },
  {
   "cell_type": "code",
   "execution_count": 355,
   "id": "ceddbbb2-e78d-45af-9223-4a0b9ccb64f1",
   "metadata": {
    "pycharm": {
     "name": "#%%\n"
    }
   },
   "outputs": [],
   "source": [
    "matrix = np.array([[1, 4, 4200], [0, 10, 5000], [1, 2, 1000]])\n",
    "\n",
    "assert np.allclose(\n",
    "    normalize(matrix),\n",
    "    np.array([[ 0.7071, -0.39223,  0.46291],\n",
    "              [-1.4142,  1.37281,  0.92582],\n",
    "              [ 0.7071, -0.98058, -1.38873]])\n",
    ")"
   ]
  },
  {
   "cell_type": "code",
   "execution_count": 356,
   "id": "3490d46d-868e-44c3-a537-2fcdde4e235e",
   "metadata": {
    "pycharm": {
     "name": "#%%\n"
    }
   },
   "outputs": [],
   "source": [
    "matrix = np.array([[-7, 2, 42], [2, 10, 50], [5, 4, 10]])\n",
    "\n",
    "assert np.allclose(\n",
    "    normalize(matrix),\n",
    "    np.array([[-1.37281, -0.98058,  0.46291],\n",
    "              [ 0.39223,  1.37281,  0.92582],\n",
    "              [ 0.98058, -0.39223, -1.38873]])\n",
    ")"
   ]
  },
  {
   "cell_type": "markdown",
   "id": "c714f30a-9f57-4e74-afef-9fbe462124fc",
   "metadata": {},
   "source": [
    "### Задание 7"
   ]
  },
  {
   "cell_type": "markdown",
   "id": "e9de182a-f062-4a94-a802-f54936141901",
   "metadata": {},
   "source": [
    "Напишите функцию, вычисляющую какую-нибудь первообразную данного полинома (в качестве константы возьмите $0$). Например, если на вход поступает массив коэффициентов `array([4, 6, 0, 1])`, что соответствует полиному $4x^3 + 6x^2 + 1$, на выходе получается массив коэффициентов `array([1, 2, 0, 1, -2])`, соответствующий полиному $x^4 + 2x^3 + x - 2$."
   ]
  },
  {
   "cell_type": "code",
   "execution_count": 357,
   "id": "3ac38a9b-9be5-436b-a577-e2621b25176c",
   "metadata": {
    "pycharm": {
     "name": "#%%\n"
    }
   },
   "outputs": [],
   "source": [
    "def antiderivative(coefs: np.ndarray) -> np.ndarray:\n",
    "    return np.polyint(coefs)"
   ]
  },
  {
   "cell_type": "code",
   "execution_count": 358,
   "id": "f305b2cc-56b1-4712-aaa3-14842056f50c",
   "metadata": {
    "pycharm": {
     "name": "#%%\n"
    }
   },
   "outputs": [],
   "source": [
    "coefs = np.array([4, 6, 0, 1])\n",
    "\n",
    "assert np.allclose(\n",
    "    antiderivative(coefs),\n",
    "    np.array([1., 2., 0., 1., 0.])\n",
    ")"
   ]
  },
  {
   "cell_type": "code",
   "execution_count": 359,
   "id": "1a41c2f8-953c-413f-b9bc-ddcd219b9370",
   "metadata": {
    "pycharm": {
     "name": "#%%\n"
    }
   },
   "outputs": [],
   "source": [
    "coefs = np.array([1, 7, -12, 21, -6])\n",
    "\n",
    "assert np.allclose(\n",
    "    antiderivative(coefs),\n",
    "    np.array([ 0.2, 1.75, -4., 10.5, -6., 0.])\n",
    ")"
   ]
  },
  {
   "cell_type": "markdown",
   "id": "fc3440b6-f535-4b02-b4c8-748519588f58",
   "metadata": {},
   "source": [
    "### Задание 8"
   ]
  },
  {
   "cell_type": "markdown",
   "id": "c1151f0b-7acc-46a7-ba16-115f751bd44c",
   "metadata": {},
   "source": [
    "Напишите функцию, делающую данную [треугольную матрицу](https://ru.wikipedia.org/wiki/%D0%A2%D1%80%D0%B5%D1%83%D0%B3%D0%BE%D0%BB%D1%8C%D0%BD%D0%B0%D1%8F_%D0%BC%D0%B0%D1%82%D1%80%D0%B8%D1%86%D0%B0) симметричной. Например, если на вход поступает матрица\n",
    "$$\n",
    "\\begin{pmatrix}\n",
    "1 & 2 & 3 & 4\\\\\n",
    "0 & 5 & 6 & 7\\\\\n",
    "0 & 0 & 8 & 9\\\\\n",
    "0 & 0 & 0 & 10\\\\\n",
    "\\end{pmatrix},\n",
    "$$\n",
    "то на выходе должна быть матрица\n",
    "$$\n",
    "\\begin{pmatrix}\n",
    "1 & 2 & 3 & 4\\\\\n",
    "2 & 5 & 6 & 7\\\\\n",
    "3 & 6 & 8 & 9\\\\\n",
    "4 & 7 & 9 & 10\\\\\n",
    "\\end{pmatrix}.\n",
    "$$"
   ]
  },
  {
   "cell_type": "code",
   "execution_count": 367,
   "id": "5f988ad1-2b19-4eae-891c-98923bd3a344",
   "metadata": {
    "pycharm": {
     "name": "#%%\n"
    }
   },
   "outputs": [],
   "source": [
    "def make_symmetric(matrix: np.ndarray) -> np.ndarray:\n",
    "    return np.triu(matrix) + np.tril(matrix.T, -1)"
   ]
  },
  {
   "cell_type": "code",
   "execution_count": 369,
   "id": "fe2b0f0e-384e-4e3a-b3fe-f40ffdcdc13d",
   "metadata": {
    "pycharm": {
     "name": "#%%\n"
    }
   },
   "outputs": [],
   "source": [
    "matrix = np.array([[1, 2, 3, 4], [0, 5, 6, 7], [0, 0, 8, 9], [0, 0, 0, 10]])\n",
    "\n",
    "assert np.allclose(\n",
    "    make_symmetric(matrix),\n",
    "    np.array([[ 1,  2,  3,  4],\n",
    "              [ 2,  5,  6,  7],\n",
    "              [ 3,  6,  8,  9],\n",
    "              [ 4,  7,  9, 10]])\n",
    ")"
   ]
  },
  {
   "cell_type": "code",
   "execution_count": 370,
   "id": "f2712199-274b-426a-8f7b-216489838828",
   "metadata": {
    "pycharm": {
     "name": "#%%\n"
    }
   },
   "outputs": [],
   "source": [
    "matrix = np.array([[10, 21, 32, 49], [0, 53, 62, 78], [0, 0, 82, 92], [0, 0, 0, 10]])\n",
    "\n",
    "assert np.allclose(\n",
    "    make_symmetric(matrix),\n",
    "    np.array([[10, 21, 32, 49],\n",
    "              [21, 53, 62, 78],\n",
    "              [32, 62, 82, 92],\n",
    "              [49, 78, 92, 10]])\n",
    ")"
   ]
  },
  {
   "cell_type": "markdown",
   "id": "66e8065f-610a-4a95-9d24-264260248268",
   "metadata": {},
   "source": [
    "### Задание 9"
   ]
  },
  {
   "cell_type": "markdown",
   "id": "9c2c6c0a-8f6c-405d-b0bc-5b4f79dfc39c",
   "metadata": {},
   "source": [
    "Напишите функцию, создающую прямоугольную матрицу из m одинаковых строк, заполненных последовательными натуральными числами от a до b включительно в возрастающем порядке. Например, если m = 5, a = 3, b = 10, то на выходе будет матрица\n",
    "$$\n",
    "\\begin{pmatrix}\n",
    "3 & 4 & 5 & 6 & 7 & 8 & 9 & 10\\\\\n",
    "3 & 4 & 5 & 6 & 7 & 8 & 9 & 10\\\\\n",
    "3 & 4 & 5 & 6 & 7 & 8 & 9 & 10\\\\\n",
    "3 & 4 & 5 & 6 & 7 & 8 & 9 & 10\\\\\n",
    "3 & 4 & 5 & 6 & 7 & 8 & 9 & 10\\\\\n",
    "\\end{pmatrix}\n",
    "$$"
   ]
  },
  {
   "cell_type": "code",
   "execution_count": 386,
   "id": "f039aaa5-a7dd-471d-863a-901a9547a58f",
   "metadata": {
    "pycharm": {
     "name": "#%%\n"
    }
   },
   "outputs": [],
   "source": [
    "def construct_matrix(m: int, a: int, b: int) -> np.ndarray:\n",
    "    return np.repeat(np.expand_dims(np.arange(a, b + 1), 1), m, axis=1).T"
   ]
  },
  {
   "cell_type": "code",
   "execution_count": 388,
   "id": "94c49e35-a3c9-41a0-af29-99937b41c290",
   "metadata": {
    "pycharm": {
     "name": "#%%\n"
    }
   },
   "outputs": [],
   "source": [
    "m = 5\n",
    "a = 3\n",
    "b = 10\n",
    "\n",
    "assert np.allclose(\n",
    "    construct_matrix(m, a, b),\n",
    "    np.array([[ 3,  4,  5,  6,  7,  8,  9, 10],\n",
    "              [ 3,  4,  5,  6,  7,  8,  9, 10],\n",
    "              [ 3,  4,  5,  6,  7,  8,  9, 10],\n",
    "              [ 3,  4,  5,  6,  7,  8,  9, 10],\n",
    "              [ 3,  4,  5,  6,  7,  8,  9, 10]])\n",
    ")"
   ]
  },
  {
   "cell_type": "code",
   "execution_count": 389,
   "id": "ca36ad02-73ad-4a59-9ae4-22c5b32c328c",
   "metadata": {
    "pycharm": {
     "name": "#%%\n"
    }
   },
   "outputs": [],
   "source": [
    "m = 3\n",
    "a = 2\n",
    "b = 6\n",
    "\n",
    "assert np.allclose(\n",
    "    construct_matrix(m, a, b),\n",
    "    np.array([[2, 3, 4, 5, 6],\n",
    "              [2, 3, 4, 5, 6],\n",
    "              [2, 3, 4, 5, 6]])\n",
    ")"
   ]
  },
  {
   "cell_type": "markdown",
   "id": "17f7534e-4f5d-470c-9de1-dc10ea877d04",
   "metadata": {},
   "source": [
    "### Задание 10"
   ]
  },
  {
   "cell_type": "markdown",
   "id": "ead81ae9-ee24-4caa-bb04-8de584c55e00",
   "metadata": {},
   "source": [
    "Напишите функцию, вычисляющую [косинусную близость](https://en.wikipedia.org/wiki/Cosine_similarity) двух векторов. Например, если на вход поступают вектора `array([-2, 1, 0, -5, 4, 3, -3])` и `array([0, 2, -2, 10, 6, 0, 0])`, ответом будет -0.25."
   ]
  },
  {
   "cell_type": "code",
   "execution_count": 390,
   "id": "94fe56a8-3274-4050-ba3c-f8faef39e977",
   "metadata": {
    "pycharm": {
     "name": "#%%\n"
    }
   },
   "outputs": [],
   "source": [
    "def cosine_similarity(vec1: np.ndarray, vec2: np.ndarray) -> float:\n",
    "    return np.dot(vec1, vec2) / (np.linalg.norm(vec1) * np.linalg.norm(vec2))"
   ]
  },
  {
   "cell_type": "code",
   "execution_count": 391,
   "id": "ccb97255-166e-410a-ac93-d2abceabe399",
   "metadata": {
    "pycharm": {
     "name": "#%%\n"
    }
   },
   "outputs": [],
   "source": [
    "vec1 = np.array([-2, 1,  0, -5, 4, 3, -3])\n",
    "vec2 = np.array([ 0, 2, -2, 10, 6, 0,  0])\n",
    "\n",
    "assert np.allclose(cosine_similarity(vec1, vec2), -0.25)"
   ]
  },
  {
   "cell_type": "code",
   "execution_count": 392,
   "id": "63c7ac50-60e9-409d-bfa0-3715f135b290",
   "metadata": {
    "pycharm": {
     "name": "#%%\n"
    }
   },
   "outputs": [],
   "source": [
    "vec1 = np.array([-4, 2,  9, -8, 9, 0, -2])\n",
    "vec2 = np.array([ 3, 2, -4, -1, 3, 2,  2])\n",
    "\n",
    "assert np.allclose(cosine_similarity(vec1, vec2), -0.119929)"
   ]
  }
 ],
 "metadata": {
  "kernelspec": {
   "display_name": "Python 3",
   "language": "python",
   "name": "python3"
  },
  "language_info": {
   "codemirror_mode": {
    "name": "ipython",
    "version": 3
   },
   "file_extension": ".py",
   "mimetype": "text/x-python",
   "name": "python",
   "nbconvert_exporter": "python",
   "pygments_lexer": "ipython3",
   "version": "3.10.7"
  },
  "vscode": {
   "interpreter": {
    "hash": "9be4eb9c55378ca66dda0aa2e322de24a7e91f8365b606e1e352057d64ae5f4b"
   }
  }
 },
 "nbformat": 4,
 "nbformat_minor": 5
}
